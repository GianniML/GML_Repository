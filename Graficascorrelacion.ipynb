{
  "nbformat": 4,
  "nbformat_minor": 0,
  "metadata": {
    "colab": {
      "name": "Graficascorrelacion.ipynb",
      "provenance": []
    },
    "kernelspec": {
      "name": "python3",
      "display_name": "Python 3"
    },
    "language_info": {
      "name": "python"
    }
  },
  "cells": [
    {
      "cell_type": "code",
      "execution_count": 1,
      "metadata": {
        "id": "R--KnbrAG5CY"
      },
      "outputs": [],
      "source": [
        "import pandas as pd "
      ]
    },
    {
      "cell_type": "code",
      "source": [
        "import numpy as np"
      ],
      "metadata": {
        "id": "NHUy8EtvG8H2"
      },
      "execution_count": 2,
      "outputs": []
    },
    {
      "cell_type": "code",
      "source": [
        "  df = pd.read_csv(\"reg_data.csv\")"
      ],
      "metadata": {
        "id": "UWauUznQG9Hm"
      },
      "execution_count": 10,
      "outputs": []
    },
    {
      "cell_type": "code",
      "source": [
        "df"
      ],
      "metadata": {
        "colab": {
          "base_uri": "https://localhost:8080/",
          "height": 645
        },
        "id": "drlivW-PH02g",
        "outputId": "7450080f-47ed-49c6-f300-78f568f10540"
      },
      "execution_count": 11,
      "outputs": [
        {
          "output_type": "execute_result",
          "data": {
            "text/html": [
              "\n",
              "  <div id=\"df-43ba3028-6f7b-44fe-8c5b-843295557a6b\">\n",
              "    <div class=\"colab-df-container\">\n",
              "      <div>\n",
              "<style scoped>\n",
              "    .dataframe tbody tr th:only-of-type {\n",
              "        vertical-align: middle;\n",
              "    }\n",
              "\n",
              "    .dataframe tbody tr th {\n",
              "        vertical-align: top;\n",
              "    }\n",
              "\n",
              "    .dataframe thead th {\n",
              "        text-align: right;\n",
              "    }\n",
              "</style>\n",
              "<table border=\"1\" class=\"dataframe\">\n",
              "  <thead>\n",
              "    <tr style=\"text-align: right;\">\n",
              "      <th></th>\n",
              "      <th>Gender</th>\n",
              "      <th>Salary</th>\n",
              "      <th>Age</th>\n",
              "      <th>Place</th>\n",
              "      <th>Weight</th>\n",
              "      <th>Company</th>\n",
              "      <th>Academic_degree</th>\n",
              "    </tr>\n",
              "  </thead>\n",
              "  <tbody>\n",
              "    <tr>\n",
              "      <th>0</th>\n",
              "      <td>Female</td>\n",
              "      <td>1500.0</td>\n",
              "      <td>33.0</td>\n",
              "      <td>Chicago</td>\n",
              "      <td>80.0</td>\n",
              "      <td>BMW</td>\n",
              "      <td>Bachelor</td>\n",
              "    </tr>\n",
              "    <tr>\n",
              "      <th>1</th>\n",
              "      <td>Female</td>\n",
              "      <td>1200.0</td>\n",
              "      <td>33.0</td>\n",
              "      <td>Chicago</td>\n",
              "      <td>82.5</td>\n",
              "      <td>Ford</td>\n",
              "      <td>No</td>\n",
              "    </tr>\n",
              "    <tr>\n",
              "      <th>2</th>\n",
              "      <td>Male</td>\n",
              "      <td>2200.0</td>\n",
              "      <td>34.0</td>\n",
              "      <td>New York</td>\n",
              "      <td>100.8</td>\n",
              "      <td>BMW</td>\n",
              "      <td>Bachelor</td>\n",
              "    </tr>\n",
              "    <tr>\n",
              "      <th>3</th>\n",
              "      <td>Male</td>\n",
              "      <td>2100.0</td>\n",
              "      <td>42.0</td>\n",
              "      <td>New York</td>\n",
              "      <td>90.0</td>\n",
              "      <td>BMW</td>\n",
              "      <td>Master</td>\n",
              "    </tr>\n",
              "    <tr>\n",
              "      <th>4</th>\n",
              "      <td>Female</td>\n",
              "      <td>1500.0</td>\n",
              "      <td>29.0</td>\n",
              "      <td>Chicago</td>\n",
              "      <td>67.0</td>\n",
              "      <td>Ford</td>\n",
              "      <td>Master</td>\n",
              "    </tr>\n",
              "    <tr>\n",
              "      <th>5</th>\n",
              "      <td>Female</td>\n",
              "      <td>1700.0</td>\n",
              "      <td>42.0</td>\n",
              "      <td>Washington</td>\n",
              "      <td>60.0</td>\n",
              "      <td>Ford</td>\n",
              "      <td>Master</td>\n",
              "    </tr>\n",
              "    <tr>\n",
              "      <th>6</th>\n",
              "      <td>Male</td>\n",
              "      <td>3000.0</td>\n",
              "      <td>50.0</td>\n",
              "      <td>Washington</td>\n",
              "      <td>77.0</td>\n",
              "      <td>Ford</td>\n",
              "      <td>No</td>\n",
              "    </tr>\n",
              "    <tr>\n",
              "      <th>7</th>\n",
              "      <td>Male</td>\n",
              "      <td>3000.0</td>\n",
              "      <td>55.0</td>\n",
              "      <td>Washington</td>\n",
              "      <td>77.0</td>\n",
              "      <td>Ford</td>\n",
              "      <td>Bachelor</td>\n",
              "    </tr>\n",
              "    <tr>\n",
              "      <th>8</th>\n",
              "      <td>Female</td>\n",
              "      <td>2800.0</td>\n",
              "      <td>31.0</td>\n",
              "      <td>New York</td>\n",
              "      <td>87.0</td>\n",
              "      <td>Ford</td>\n",
              "      <td>Bachelor</td>\n",
              "    </tr>\n",
              "    <tr>\n",
              "      <th>9</th>\n",
              "      <td>Male</td>\n",
              "      <td>2900.0</td>\n",
              "      <td>46.0</td>\n",
              "      <td>New York</td>\n",
              "      <td>70.0</td>\n",
              "      <td>GM</td>\n",
              "      <td>Master</td>\n",
              "    </tr>\n",
              "    <tr>\n",
              "      <th>10</th>\n",
              "      <td>Female</td>\n",
              "      <td>2780.0</td>\n",
              "      <td>36.0</td>\n",
              "      <td>Washington</td>\n",
              "      <td>57.0</td>\n",
              "      <td>BMW</td>\n",
              "      <td>No</td>\n",
              "    </tr>\n",
              "    <tr>\n",
              "      <th>11</th>\n",
              "      <td>Male</td>\n",
              "      <td>2550.0</td>\n",
              "      <td>48.0</td>\n",
              "      <td>New York</td>\n",
              "      <td>64.0</td>\n",
              "      <td>GM</td>\n",
              "      <td>Master</td>\n",
              "    </tr>\n",
              "    <tr>\n",
              "      <th>12</th>\n",
              "      <td>Female</td>\n",
              "      <td>NaN</td>\n",
              "      <td>31.0</td>\n",
              "      <td>New York</td>\n",
              "      <td>87.0</td>\n",
              "      <td>Ford</td>\n",
              "      <td>Bachelor</td>\n",
              "    </tr>\n",
              "    <tr>\n",
              "      <th>13</th>\n",
              "      <td>Male</td>\n",
              "      <td>2900.0</td>\n",
              "      <td>NaN</td>\n",
              "      <td>New York</td>\n",
              "      <td>70.0</td>\n",
              "      <td>GM</td>\n",
              "      <td>Master</td>\n",
              "    </tr>\n",
              "    <tr>\n",
              "      <th>14</th>\n",
              "      <td>Female</td>\n",
              "      <td>2780.0</td>\n",
              "      <td>36.0</td>\n",
              "      <td>NaN</td>\n",
              "      <td>57.0</td>\n",
              "      <td>BMW</td>\n",
              "      <td>No</td>\n",
              "    </tr>\n",
              "    <tr>\n",
              "      <th>15</th>\n",
              "      <td>Male</td>\n",
              "      <td>2550.0</td>\n",
              "      <td>48.0</td>\n",
              "      <td>New York</td>\n",
              "      <td>NaN</td>\n",
              "      <td>GM</td>\n",
              "      <td>Master</td>\n",
              "    </tr>\n",
              "    <tr>\n",
              "      <th>16</th>\n",
              "      <td>Male</td>\n",
              "      <td>2550.0</td>\n",
              "      <td>48.0</td>\n",
              "      <td>New York</td>\n",
              "      <td>64.0</td>\n",
              "      <td>NaN</td>\n",
              "      <td>Master</td>\n",
              "    </tr>\n",
              "    <tr>\n",
              "      <th>17</th>\n",
              "      <td>Male</td>\n",
              "      <td>2550.0</td>\n",
              "      <td>48.0</td>\n",
              "      <td>New York</td>\n",
              "      <td>64.0</td>\n",
              "      <td>GM</td>\n",
              "      <td>NaN</td>\n",
              "    </tr>\n",
              "    <tr>\n",
              "      <th>18</th>\n",
              "      <td>NaN</td>\n",
              "      <td>2550.0</td>\n",
              "      <td>48.0</td>\n",
              "      <td>New York</td>\n",
              "      <td>64.0</td>\n",
              "      <td>GM</td>\n",
              "      <td>Master</td>\n",
              "    </tr>\n",
              "  </tbody>\n",
              "</table>\n",
              "</div>\n",
              "      <button class=\"colab-df-convert\" onclick=\"convertToInteractive('df-43ba3028-6f7b-44fe-8c5b-843295557a6b')\"\n",
              "              title=\"Convert this dataframe to an interactive table.\"\n",
              "              style=\"display:none;\">\n",
              "        \n",
              "  <svg xmlns=\"http://www.w3.org/2000/svg\" height=\"24px\"viewBox=\"0 0 24 24\"\n",
              "       width=\"24px\">\n",
              "    <path d=\"M0 0h24v24H0V0z\" fill=\"none\"/>\n",
              "    <path d=\"M18.56 5.44l.94 2.06.94-2.06 2.06-.94-2.06-.94-.94-2.06-.94 2.06-2.06.94zm-11 1L8.5 8.5l.94-2.06 2.06-.94-2.06-.94L8.5 2.5l-.94 2.06-2.06.94zm10 10l.94 2.06.94-2.06 2.06-.94-2.06-.94-.94-2.06-.94 2.06-2.06.94z\"/><path d=\"M17.41 7.96l-1.37-1.37c-.4-.4-.92-.59-1.43-.59-.52 0-1.04.2-1.43.59L10.3 9.45l-7.72 7.72c-.78.78-.78 2.05 0 2.83L4 21.41c.39.39.9.59 1.41.59.51 0 1.02-.2 1.41-.59l7.78-7.78 2.81-2.81c.8-.78.8-2.07 0-2.86zM5.41 20L4 18.59l7.72-7.72 1.47 1.35L5.41 20z\"/>\n",
              "  </svg>\n",
              "      </button>\n",
              "      \n",
              "  <style>\n",
              "    .colab-df-container {\n",
              "      display:flex;\n",
              "      flex-wrap:wrap;\n",
              "      gap: 12px;\n",
              "    }\n",
              "\n",
              "    .colab-df-convert {\n",
              "      background-color: #E8F0FE;\n",
              "      border: none;\n",
              "      border-radius: 50%;\n",
              "      cursor: pointer;\n",
              "      display: none;\n",
              "      fill: #1967D2;\n",
              "      height: 32px;\n",
              "      padding: 0 0 0 0;\n",
              "      width: 32px;\n",
              "    }\n",
              "\n",
              "    .colab-df-convert:hover {\n",
              "      background-color: #E2EBFA;\n",
              "      box-shadow: 0px 1px 2px rgba(60, 64, 67, 0.3), 0px 1px 3px 1px rgba(60, 64, 67, 0.15);\n",
              "      fill: #174EA6;\n",
              "    }\n",
              "\n",
              "    [theme=dark] .colab-df-convert {\n",
              "      background-color: #3B4455;\n",
              "      fill: #D2E3FC;\n",
              "    }\n",
              "\n",
              "    [theme=dark] .colab-df-convert:hover {\n",
              "      background-color: #434B5C;\n",
              "      box-shadow: 0px 1px 3px 1px rgba(0, 0, 0, 0.15);\n",
              "      filter: drop-shadow(0px 1px 2px rgba(0, 0, 0, 0.3));\n",
              "      fill: #FFFFFF;\n",
              "    }\n",
              "  </style>\n",
              "\n",
              "      <script>\n",
              "        const buttonEl =\n",
              "          document.querySelector('#df-43ba3028-6f7b-44fe-8c5b-843295557a6b button.colab-df-convert');\n",
              "        buttonEl.style.display =\n",
              "          google.colab.kernel.accessAllowed ? 'block' : 'none';\n",
              "\n",
              "        async function convertToInteractive(key) {\n",
              "          const element = document.querySelector('#df-43ba3028-6f7b-44fe-8c5b-843295557a6b');\n",
              "          const dataTable =\n",
              "            await google.colab.kernel.invokeFunction('convertToInteractive',\n",
              "                                                     [key], {});\n",
              "          if (!dataTable) return;\n",
              "\n",
              "          const docLinkHtml = 'Like what you see? Visit the ' +\n",
              "            '<a target=\"_blank\" href=https://colab.research.google.com/notebooks/data_table.ipynb>data table notebook</a>'\n",
              "            + ' to learn more about interactive tables.';\n",
              "          element.innerHTML = '';\n",
              "          dataTable['output_type'] = 'display_data';\n",
              "          await google.colab.output.renderOutput(dataTable, element);\n",
              "          const docLink = document.createElement('div');\n",
              "          docLink.innerHTML = docLinkHtml;\n",
              "          element.appendChild(docLink);\n",
              "        }\n",
              "      </script>\n",
              "    </div>\n",
              "  </div>\n",
              "  "
            ],
            "text/plain": [
              "    Gender  Salary   Age       Place  Weight Company Academic_degree\n",
              "0   Female  1500.0  33.0     Chicago    80.0     BMW        Bachelor\n",
              "1   Female  1200.0  33.0     Chicago    82.5    Ford              No\n",
              "2     Male  2200.0  34.0    New York   100.8     BMW        Bachelor\n",
              "3     Male  2100.0  42.0    New York    90.0     BMW          Master\n",
              "4   Female  1500.0  29.0     Chicago    67.0    Ford          Master\n",
              "5   Female  1700.0  42.0  Washington    60.0    Ford          Master\n",
              "6     Male  3000.0  50.0  Washington    77.0    Ford              No\n",
              "7     Male  3000.0  55.0  Washington    77.0    Ford        Bachelor\n",
              "8   Female  2800.0  31.0    New York    87.0    Ford        Bachelor\n",
              "9     Male  2900.0  46.0    New York    70.0      GM          Master\n",
              "10  Female  2780.0  36.0  Washington    57.0     BMW              No\n",
              "11    Male  2550.0  48.0    New York    64.0      GM          Master\n",
              "12  Female     NaN  31.0    New York    87.0    Ford        Bachelor\n",
              "13    Male  2900.0   NaN    New York    70.0      GM          Master\n",
              "14  Female  2780.0  36.0         NaN    57.0     BMW              No\n",
              "15    Male  2550.0  48.0    New York     NaN      GM          Master\n",
              "16    Male  2550.0  48.0    New York    64.0     NaN          Master\n",
              "17    Male  2550.0  48.0    New York    64.0      GM             NaN\n",
              "18     NaN  2550.0  48.0    New York    64.0      GM          Master"
            ]
          },
          "metadata": {},
          "execution_count": 11
        }
      ]
    },
    {
      "cell_type": "code",
      "source": [
        "import matplotlib.pyplot as plt\n",
        "import seaborn as sns \n",
        "import statsmodels.api as sm \n",
        "from sklearn import linear_model"
      ],
      "metadata": {
        "colab": {
          "base_uri": "https://localhost:8080/"
        },
        "id": "ib2NKbDeH_04",
        "outputId": "6b9f1c2a-afa9-4f73-bc68-daf25ced6058"
      },
      "execution_count": 5,
      "outputs": [
        {
          "output_type": "stream",
          "name": "stderr",
          "text": [
            "/usr/local/lib/python3.7/dist-packages/statsmodels/tools/_testing.py:19: FutureWarning: pandas.util.testing is deprecated. Use the functions in the public API at pandas.testing instead.\n",
            "  import pandas.util.testing as tm\n"
          ]
        }
      ]
    },
    {
      "cell_type": "code",
      "source": [
        "df.corr() #correlacion general de la base de datos \n"
      ],
      "metadata": {
        "colab": {
          "base_uri": "https://localhost:8080/",
          "height": 143
        },
        "id": "uB-9VSksIgnI",
        "outputId": "03a3062c-b702-416a-aef1-92e8c7cfaa54"
      },
      "execution_count": 12,
      "outputs": [
        {
          "output_type": "execute_result",
          "data": {
            "text/html": [
              "\n",
              "  <div id=\"df-b0217391-98c5-473f-bd86-9ccbbfa1d77f\">\n",
              "    <div class=\"colab-df-container\">\n",
              "      <div>\n",
              "<style scoped>\n",
              "    .dataframe tbody tr th:only-of-type {\n",
              "        vertical-align: middle;\n",
              "    }\n",
              "\n",
              "    .dataframe tbody tr th {\n",
              "        vertical-align: top;\n",
              "    }\n",
              "\n",
              "    .dataframe thead th {\n",
              "        text-align: right;\n",
              "    }\n",
              "</style>\n",
              "<table border=\"1\" class=\"dataframe\">\n",
              "  <thead>\n",
              "    <tr style=\"text-align: right;\">\n",
              "      <th></th>\n",
              "      <th>Salary</th>\n",
              "      <th>Age</th>\n",
              "      <th>Weight</th>\n",
              "    </tr>\n",
              "  </thead>\n",
              "  <tbody>\n",
              "    <tr>\n",
              "      <th>Salary</th>\n",
              "      <td>1.000000</td>\n",
              "      <td>0.580216</td>\n",
              "      <td>-0.207958</td>\n",
              "    </tr>\n",
              "    <tr>\n",
              "      <th>Age</th>\n",
              "      <td>0.580216</td>\n",
              "      <td>1.000000</td>\n",
              "      <td>-0.321182</td>\n",
              "    </tr>\n",
              "    <tr>\n",
              "      <th>Weight</th>\n",
              "      <td>-0.207958</td>\n",
              "      <td>-0.321182</td>\n",
              "      <td>1.000000</td>\n",
              "    </tr>\n",
              "  </tbody>\n",
              "</table>\n",
              "</div>\n",
              "      <button class=\"colab-df-convert\" onclick=\"convertToInteractive('df-b0217391-98c5-473f-bd86-9ccbbfa1d77f')\"\n",
              "              title=\"Convert this dataframe to an interactive table.\"\n",
              "              style=\"display:none;\">\n",
              "        \n",
              "  <svg xmlns=\"http://www.w3.org/2000/svg\" height=\"24px\"viewBox=\"0 0 24 24\"\n",
              "       width=\"24px\">\n",
              "    <path d=\"M0 0h24v24H0V0z\" fill=\"none\"/>\n",
              "    <path d=\"M18.56 5.44l.94 2.06.94-2.06 2.06-.94-2.06-.94-.94-2.06-.94 2.06-2.06.94zm-11 1L8.5 8.5l.94-2.06 2.06-.94-2.06-.94L8.5 2.5l-.94 2.06-2.06.94zm10 10l.94 2.06.94-2.06 2.06-.94-2.06-.94-.94-2.06-.94 2.06-2.06.94z\"/><path d=\"M17.41 7.96l-1.37-1.37c-.4-.4-.92-.59-1.43-.59-.52 0-1.04.2-1.43.59L10.3 9.45l-7.72 7.72c-.78.78-.78 2.05 0 2.83L4 21.41c.39.39.9.59 1.41.59.51 0 1.02-.2 1.41-.59l7.78-7.78 2.81-2.81c.8-.78.8-2.07 0-2.86zM5.41 20L4 18.59l7.72-7.72 1.47 1.35L5.41 20z\"/>\n",
              "  </svg>\n",
              "      </button>\n",
              "      \n",
              "  <style>\n",
              "    .colab-df-container {\n",
              "      display:flex;\n",
              "      flex-wrap:wrap;\n",
              "      gap: 12px;\n",
              "    }\n",
              "\n",
              "    .colab-df-convert {\n",
              "      background-color: #E8F0FE;\n",
              "      border: none;\n",
              "      border-radius: 50%;\n",
              "      cursor: pointer;\n",
              "      display: none;\n",
              "      fill: #1967D2;\n",
              "      height: 32px;\n",
              "      padding: 0 0 0 0;\n",
              "      width: 32px;\n",
              "    }\n",
              "\n",
              "    .colab-df-convert:hover {\n",
              "      background-color: #E2EBFA;\n",
              "      box-shadow: 0px 1px 2px rgba(60, 64, 67, 0.3), 0px 1px 3px 1px rgba(60, 64, 67, 0.15);\n",
              "      fill: #174EA6;\n",
              "    }\n",
              "\n",
              "    [theme=dark] .colab-df-convert {\n",
              "      background-color: #3B4455;\n",
              "      fill: #D2E3FC;\n",
              "    }\n",
              "\n",
              "    [theme=dark] .colab-df-convert:hover {\n",
              "      background-color: #434B5C;\n",
              "      box-shadow: 0px 1px 3px 1px rgba(0, 0, 0, 0.15);\n",
              "      filter: drop-shadow(0px 1px 2px rgba(0, 0, 0, 0.3));\n",
              "      fill: #FFFFFF;\n",
              "    }\n",
              "  </style>\n",
              "\n",
              "      <script>\n",
              "        const buttonEl =\n",
              "          document.querySelector('#df-b0217391-98c5-473f-bd86-9ccbbfa1d77f button.colab-df-convert');\n",
              "        buttonEl.style.display =\n",
              "          google.colab.kernel.accessAllowed ? 'block' : 'none';\n",
              "\n",
              "        async function convertToInteractive(key) {\n",
              "          const element = document.querySelector('#df-b0217391-98c5-473f-bd86-9ccbbfa1d77f');\n",
              "          const dataTable =\n",
              "            await google.colab.kernel.invokeFunction('convertToInteractive',\n",
              "                                                     [key], {});\n",
              "          if (!dataTable) return;\n",
              "\n",
              "          const docLinkHtml = 'Like what you see? Visit the ' +\n",
              "            '<a target=\"_blank\" href=https://colab.research.google.com/notebooks/data_table.ipynb>data table notebook</a>'\n",
              "            + ' to learn more about interactive tables.';\n",
              "          element.innerHTML = '';\n",
              "          dataTable['output_type'] = 'display_data';\n",
              "          await google.colab.output.renderOutput(dataTable, element);\n",
              "          const docLink = document.createElement('div');\n",
              "          docLink.innerHTML = docLinkHtml;\n",
              "          element.appendChild(docLink);\n",
              "        }\n",
              "      </script>\n",
              "    </div>\n",
              "  </div>\n",
              "  "
            ],
            "text/plain": [
              "          Salary       Age    Weight\n",
              "Salary  1.000000  0.580216 -0.207958\n",
              "Age     0.580216  1.000000 -0.321182\n",
              "Weight -0.207958 -0.321182  1.000000"
            ]
          },
          "metadata": {},
          "execution_count": 12
        }
      ]
    },
    {
      "cell_type": "code",
      "source": [
        "df.columns"
      ],
      "metadata": {
        "colab": {
          "base_uri": "https://localhost:8080/"
        },
        "id": "SoWAWkB7JB54",
        "outputId": "6fc3ad75-db44-4c1a-d4f7-52cb99d8f37d"
      },
      "execution_count": 13,
      "outputs": [
        {
          "output_type": "execute_result",
          "data": {
            "text/plain": [
              "Index(['Gender', 'Salary', 'Age', 'Place', 'Weight', 'Company',\n",
              "       'Academic_degree'],\n",
              "      dtype='object')"
            ]
          },
          "metadata": {},
          "execution_count": 13
        }
      ]
    },
    {
      "cell_type": "code",
      "source": [
        "df.dropna(inplace= True )\n",
        "df  #dropear los datos inexistentes Nan"
      ],
      "metadata": {
        "colab": {
          "base_uri": "https://localhost:8080/",
          "height": 426
        },
        "id": "C2bgTSClJHW4",
        "outputId": "02ba4328-38fd-4557-cdd4-4ab26cdb9674"
      },
      "execution_count": 18,
      "outputs": [
        {
          "output_type": "execute_result",
          "data": {
            "text/html": [
              "\n",
              "  <div id=\"df-3e2c1a9b-3283-482a-834e-3d858c0c3f88\">\n",
              "    <div class=\"colab-df-container\">\n",
              "      <div>\n",
              "<style scoped>\n",
              "    .dataframe tbody tr th:only-of-type {\n",
              "        vertical-align: middle;\n",
              "    }\n",
              "\n",
              "    .dataframe tbody tr th {\n",
              "        vertical-align: top;\n",
              "    }\n",
              "\n",
              "    .dataframe thead th {\n",
              "        text-align: right;\n",
              "    }\n",
              "</style>\n",
              "<table border=\"1\" class=\"dataframe\">\n",
              "  <thead>\n",
              "    <tr style=\"text-align: right;\">\n",
              "      <th></th>\n",
              "      <th>Gender</th>\n",
              "      <th>Salary</th>\n",
              "      <th>Age</th>\n",
              "      <th>Place</th>\n",
              "      <th>Weight</th>\n",
              "      <th>Company</th>\n",
              "      <th>Academic_degree</th>\n",
              "    </tr>\n",
              "  </thead>\n",
              "  <tbody>\n",
              "    <tr>\n",
              "      <th>0</th>\n",
              "      <td>Female</td>\n",
              "      <td>1500.0</td>\n",
              "      <td>33.0</td>\n",
              "      <td>Chicago</td>\n",
              "      <td>80.0</td>\n",
              "      <td>BMW</td>\n",
              "      <td>Bachelor</td>\n",
              "    </tr>\n",
              "    <tr>\n",
              "      <th>1</th>\n",
              "      <td>Female</td>\n",
              "      <td>1200.0</td>\n",
              "      <td>33.0</td>\n",
              "      <td>Chicago</td>\n",
              "      <td>82.5</td>\n",
              "      <td>Ford</td>\n",
              "      <td>No</td>\n",
              "    </tr>\n",
              "    <tr>\n",
              "      <th>2</th>\n",
              "      <td>Male</td>\n",
              "      <td>2200.0</td>\n",
              "      <td>34.0</td>\n",
              "      <td>New York</td>\n",
              "      <td>100.8</td>\n",
              "      <td>BMW</td>\n",
              "      <td>Bachelor</td>\n",
              "    </tr>\n",
              "    <tr>\n",
              "      <th>3</th>\n",
              "      <td>Male</td>\n",
              "      <td>2100.0</td>\n",
              "      <td>42.0</td>\n",
              "      <td>New York</td>\n",
              "      <td>90.0</td>\n",
              "      <td>BMW</td>\n",
              "      <td>Master</td>\n",
              "    </tr>\n",
              "    <tr>\n",
              "      <th>4</th>\n",
              "      <td>Female</td>\n",
              "      <td>1500.0</td>\n",
              "      <td>29.0</td>\n",
              "      <td>Chicago</td>\n",
              "      <td>67.0</td>\n",
              "      <td>Ford</td>\n",
              "      <td>Master</td>\n",
              "    </tr>\n",
              "    <tr>\n",
              "      <th>5</th>\n",
              "      <td>Female</td>\n",
              "      <td>1700.0</td>\n",
              "      <td>42.0</td>\n",
              "      <td>Washington</td>\n",
              "      <td>60.0</td>\n",
              "      <td>Ford</td>\n",
              "      <td>Master</td>\n",
              "    </tr>\n",
              "    <tr>\n",
              "      <th>6</th>\n",
              "      <td>Male</td>\n",
              "      <td>3000.0</td>\n",
              "      <td>50.0</td>\n",
              "      <td>Washington</td>\n",
              "      <td>77.0</td>\n",
              "      <td>Ford</td>\n",
              "      <td>No</td>\n",
              "    </tr>\n",
              "    <tr>\n",
              "      <th>7</th>\n",
              "      <td>Male</td>\n",
              "      <td>3000.0</td>\n",
              "      <td>55.0</td>\n",
              "      <td>Washington</td>\n",
              "      <td>77.0</td>\n",
              "      <td>Ford</td>\n",
              "      <td>Bachelor</td>\n",
              "    </tr>\n",
              "    <tr>\n",
              "      <th>8</th>\n",
              "      <td>Female</td>\n",
              "      <td>2800.0</td>\n",
              "      <td>31.0</td>\n",
              "      <td>New York</td>\n",
              "      <td>87.0</td>\n",
              "      <td>Ford</td>\n",
              "      <td>Bachelor</td>\n",
              "    </tr>\n",
              "    <tr>\n",
              "      <th>9</th>\n",
              "      <td>Male</td>\n",
              "      <td>2900.0</td>\n",
              "      <td>46.0</td>\n",
              "      <td>New York</td>\n",
              "      <td>70.0</td>\n",
              "      <td>GM</td>\n",
              "      <td>Master</td>\n",
              "    </tr>\n",
              "    <tr>\n",
              "      <th>10</th>\n",
              "      <td>Female</td>\n",
              "      <td>2780.0</td>\n",
              "      <td>36.0</td>\n",
              "      <td>Washington</td>\n",
              "      <td>57.0</td>\n",
              "      <td>BMW</td>\n",
              "      <td>No</td>\n",
              "    </tr>\n",
              "    <tr>\n",
              "      <th>11</th>\n",
              "      <td>Male</td>\n",
              "      <td>2550.0</td>\n",
              "      <td>48.0</td>\n",
              "      <td>New York</td>\n",
              "      <td>64.0</td>\n",
              "      <td>GM</td>\n",
              "      <td>Master</td>\n",
              "    </tr>\n",
              "  </tbody>\n",
              "</table>\n",
              "</div>\n",
              "      <button class=\"colab-df-convert\" onclick=\"convertToInteractive('df-3e2c1a9b-3283-482a-834e-3d858c0c3f88')\"\n",
              "              title=\"Convert this dataframe to an interactive table.\"\n",
              "              style=\"display:none;\">\n",
              "        \n",
              "  <svg xmlns=\"http://www.w3.org/2000/svg\" height=\"24px\"viewBox=\"0 0 24 24\"\n",
              "       width=\"24px\">\n",
              "    <path d=\"M0 0h24v24H0V0z\" fill=\"none\"/>\n",
              "    <path d=\"M18.56 5.44l.94 2.06.94-2.06 2.06-.94-2.06-.94-.94-2.06-.94 2.06-2.06.94zm-11 1L8.5 8.5l.94-2.06 2.06-.94-2.06-.94L8.5 2.5l-.94 2.06-2.06.94zm10 10l.94 2.06.94-2.06 2.06-.94-2.06-.94-.94-2.06-.94 2.06-2.06.94z\"/><path d=\"M17.41 7.96l-1.37-1.37c-.4-.4-.92-.59-1.43-.59-.52 0-1.04.2-1.43.59L10.3 9.45l-7.72 7.72c-.78.78-.78 2.05 0 2.83L4 21.41c.39.39.9.59 1.41.59.51 0 1.02-.2 1.41-.59l7.78-7.78 2.81-2.81c.8-.78.8-2.07 0-2.86zM5.41 20L4 18.59l7.72-7.72 1.47 1.35L5.41 20z\"/>\n",
              "  </svg>\n",
              "      </button>\n",
              "      \n",
              "  <style>\n",
              "    .colab-df-container {\n",
              "      display:flex;\n",
              "      flex-wrap:wrap;\n",
              "      gap: 12px;\n",
              "    }\n",
              "\n",
              "    .colab-df-convert {\n",
              "      background-color: #E8F0FE;\n",
              "      border: none;\n",
              "      border-radius: 50%;\n",
              "      cursor: pointer;\n",
              "      display: none;\n",
              "      fill: #1967D2;\n",
              "      height: 32px;\n",
              "      padding: 0 0 0 0;\n",
              "      width: 32px;\n",
              "    }\n",
              "\n",
              "    .colab-df-convert:hover {\n",
              "      background-color: #E2EBFA;\n",
              "      box-shadow: 0px 1px 2px rgba(60, 64, 67, 0.3), 0px 1px 3px 1px rgba(60, 64, 67, 0.15);\n",
              "      fill: #174EA6;\n",
              "    }\n",
              "\n",
              "    [theme=dark] .colab-df-convert {\n",
              "      background-color: #3B4455;\n",
              "      fill: #D2E3FC;\n",
              "    }\n",
              "\n",
              "    [theme=dark] .colab-df-convert:hover {\n",
              "      background-color: #434B5C;\n",
              "      box-shadow: 0px 1px 3px 1px rgba(0, 0, 0, 0.15);\n",
              "      filter: drop-shadow(0px 1px 2px rgba(0, 0, 0, 0.3));\n",
              "      fill: #FFFFFF;\n",
              "    }\n",
              "  </style>\n",
              "\n",
              "      <script>\n",
              "        const buttonEl =\n",
              "          document.querySelector('#df-3e2c1a9b-3283-482a-834e-3d858c0c3f88 button.colab-df-convert');\n",
              "        buttonEl.style.display =\n",
              "          google.colab.kernel.accessAllowed ? 'block' : 'none';\n",
              "\n",
              "        async function convertToInteractive(key) {\n",
              "          const element = document.querySelector('#df-3e2c1a9b-3283-482a-834e-3d858c0c3f88');\n",
              "          const dataTable =\n",
              "            await google.colab.kernel.invokeFunction('convertToInteractive',\n",
              "                                                     [key], {});\n",
              "          if (!dataTable) return;\n",
              "\n",
              "          const docLinkHtml = 'Like what you see? Visit the ' +\n",
              "            '<a target=\"_blank\" href=https://colab.research.google.com/notebooks/data_table.ipynb>data table notebook</a>'\n",
              "            + ' to learn more about interactive tables.';\n",
              "          element.innerHTML = '';\n",
              "          dataTable['output_type'] = 'display_data';\n",
              "          await google.colab.output.renderOutput(dataTable, element);\n",
              "          const docLink = document.createElement('div');\n",
              "          docLink.innerHTML = docLinkHtml;\n",
              "          element.appendChild(docLink);\n",
              "        }\n",
              "      </script>\n",
              "    </div>\n",
              "  </div>\n",
              "  "
            ],
            "text/plain": [
              "    Gender  Salary   Age       Place  Weight Company Academic_degree\n",
              "0   Female  1500.0  33.0     Chicago    80.0     BMW        Bachelor\n",
              "1   Female  1200.0  33.0     Chicago    82.5    Ford              No\n",
              "2     Male  2200.0  34.0    New York   100.8     BMW        Bachelor\n",
              "3     Male  2100.0  42.0    New York    90.0     BMW          Master\n",
              "4   Female  1500.0  29.0     Chicago    67.0    Ford          Master\n",
              "5   Female  1700.0  42.0  Washington    60.0    Ford          Master\n",
              "6     Male  3000.0  50.0  Washington    77.0    Ford              No\n",
              "7     Male  3000.0  55.0  Washington    77.0    Ford        Bachelor\n",
              "8   Female  2800.0  31.0    New York    87.0    Ford        Bachelor\n",
              "9     Male  2900.0  46.0    New York    70.0      GM          Master\n",
              "10  Female  2780.0  36.0  Washington    57.0     BMW              No\n",
              "11    Male  2550.0  48.0    New York    64.0      GM          Master"
            ]
          },
          "metadata": {},
          "execution_count": 18
        }
      ]
    },
    {
      "cell_type": "markdown",
      "source": [
        "1. Is there any relationship between Age and Salary. \n",
        "\n",
        "Salary depends n Age? \n",
        "\n",
        "Salary = b0 + b1*Age\n",
        "\n",
        "y = c + mx \n",
        "\n",
        "b0 -> y intercept\n"
      ],
      "metadata": {
        "id": "MzkG6d0KL6UL"
      }
    },
    {
      "cell_type": "code",
      "source": [
        "y = pd.DataFrame(df['Salary']) #se usa pd.DataFrame para hacer los datos tabla y poder hacer una regresion \n",
        "x = pd.DataFrame(df['Age'])\n",
        "\n",
        "lm= linear_model.LinearRegression()\n",
        "model_lm = lm.fit(x,y)\n",
        "model_lm\n"
      ],
      "metadata": {
        "colab": {
          "base_uri": "https://localhost:8080/"
        },
        "id": "EypcpqlROo7O",
        "outputId": "f800d54c-10fa-463c-c3ab-aca164885599"
      },
      "execution_count": 17,
      "outputs": [
        {
          "output_type": "execute_result",
          "data": {
            "text/plain": [
              "LinearRegression()"
            ]
          },
          "metadata": {},
          "execution_count": 17
        }
      ]
    },
    {
      "cell_type": "code",
      "source": [
        "print('The y intercept , b0 = ', model_lm.intercept_) # para conocer la y intercept \n",
        "print('The coeff. of Age, b1 = ', model_lm.coef_) # conocer el coefficiente del modelo \n",
        "print('The R^2 value is =', model_lm.score(x,y)) # que tan confiable el modelo es (determinante)"
      ],
      "metadata": {
        "colab": {
          "base_uri": "https://localhost:8080/"
        },
        "id": "F20Apmz3O8l5",
        "outputId": "282357da-33b5-4e7a-e71c-faa7e081fae2"
      },
      "execution_count": 19,
      "outputs": [
        {
          "output_type": "stream",
          "name": "stdout",
          "text": [
            "The y intercept , b0 =  [349.44580104]\n",
            "The coeff. of Age, b1 =  [[48.09321584]]\n",
            "The R^2 value is = 0.380484541757693\n"
          ]
        }
      ]
    },
    {
      "cell_type": "code",
      "source": [
        "modelA = sm.OLS.from_formula('Salary~Age', data = df) # el modelo es OL (least squares)\n",
        "resultA = modelA.fit() \n",
        "resultA.summary()\n",
        "#resumen como en excel del modelo en general con R ajustada , desviaciones estandar, valores probbilisticos, etc. "
      ],
      "metadata": {
        "colab": {
          "base_uri": "https://localhost:8080/",
          "height": 478
        },
        "id": "dCpEFzkQQSY5",
        "outputId": "ab4d0462-aadd-4848-9250-2ea38f64e2c8"
      },
      "execution_count": 34,
      "outputs": [
        {
          "output_type": "stream",
          "name": "stderr",
          "text": [
            "/usr/local/lib/python3.7/dist-packages/scipy/stats/stats.py:1535: UserWarning: kurtosistest only valid for n>=20 ... continuing anyway, n=12\n",
            "  \"anyway, n=%i\" % int(n))\n"
          ]
        },
        {
          "output_type": "execute_result",
          "data": {
            "text/html": [
              "<table class=\"simpletable\">\n",
              "<caption>OLS Regression Results</caption>\n",
              "<tr>\n",
              "  <th>Dep. Variable:</th>         <td>Salary</td>      <th>  R-squared:         </th> <td>   0.380</td>\n",
              "</tr>\n",
              "<tr>\n",
              "  <th>Model:</th>                   <td>OLS</td>       <th>  Adj. R-squared:    </th> <td>   0.319</td>\n",
              "</tr>\n",
              "<tr>\n",
              "  <th>Method:</th>             <td>Least Squares</td>  <th>  F-statistic:       </th> <td>   6.142</td>\n",
              "</tr>\n",
              "<tr>\n",
              "  <th>Date:</th>             <td>Fri, 11 Mar 2022</td> <th>  Prob (F-statistic):</th>  <td>0.0326</td> \n",
              "</tr>\n",
              "<tr>\n",
              "  <th>Time:</th>                 <td>14:27:16</td>     <th>  Log-Likelihood:    </th> <td> -91.514</td>\n",
              "</tr>\n",
              "<tr>\n",
              "  <th>No. Observations:</th>      <td>    12</td>      <th>  AIC:               </th> <td>   187.0</td>\n",
              "</tr>\n",
              "<tr>\n",
              "  <th>Df Residuals:</th>          <td>    10</td>      <th>  BIC:               </th> <td>   188.0</td>\n",
              "</tr>\n",
              "<tr>\n",
              "  <th>Df Model:</th>              <td>     1</td>      <th>                     </th>     <td> </td>   \n",
              "</tr>\n",
              "<tr>\n",
              "  <th>Covariance Type:</th>      <td>nonrobust</td>    <th>                     </th>     <td> </td>   \n",
              "</tr>\n",
              "</table>\n",
              "<table class=\"simpletable\">\n",
              "<tr>\n",
              "      <td></td>         <th>coef</th>     <th>std err</th>      <th>t</th>      <th>P>|t|</th>  <th>[0.025</th>    <th>0.975]</th>  \n",
              "</tr>\n",
              "<tr>\n",
              "  <th>Intercept</th> <td>  349.4458</td> <td>  790.373</td> <td>    0.442</td> <td> 0.668</td> <td>-1411.614</td> <td> 2110.506</td>\n",
              "</tr>\n",
              "<tr>\n",
              "  <th>Age</th>       <td>   48.0932</td> <td>   19.406</td> <td>    2.478</td> <td> 0.033</td> <td>    4.853</td> <td>   91.333</td>\n",
              "</tr>\n",
              "</table>\n",
              "<table class=\"simpletable\">\n",
              "<tr>\n",
              "  <th>Omnibus:</th>       <td> 0.406</td> <th>  Durbin-Watson:     </th> <td>   1.484</td>\n",
              "</tr>\n",
              "<tr>\n",
              "  <th>Prob(Omnibus):</th> <td> 0.816</td> <th>  Jarque-Bera (JB):  </th> <td>   0.479</td>\n",
              "</tr>\n",
              "<tr>\n",
              "  <th>Skew:</th>          <td> 0.321</td> <th>  Prob(JB):          </th> <td>   0.787</td>\n",
              "</tr>\n",
              "<tr>\n",
              "  <th>Kurtosis:</th>      <td> 2.261</td> <th>  Cond. No.          </th> <td>    205.</td>\n",
              "</tr>\n",
              "</table><br/><br/>Warnings:<br/>[1] Standard Errors assume that the covariance matrix of the errors is correctly specified."
            ],
            "text/plain": [
              "<class 'statsmodels.iolib.summary.Summary'>\n",
              "\"\"\"\n",
              "                            OLS Regression Results                            \n",
              "==============================================================================\n",
              "Dep. Variable:                 Salary   R-squared:                       0.380\n",
              "Model:                            OLS   Adj. R-squared:                  0.319\n",
              "Method:                 Least Squares   F-statistic:                     6.142\n",
              "Date:                Fri, 11 Mar 2022   Prob (F-statistic):             0.0326\n",
              "Time:                        14:27:16   Log-Likelihood:                -91.514\n",
              "No. Observations:                  12   AIC:                             187.0\n",
              "Df Residuals:                      10   BIC:                             188.0\n",
              "Df Model:                           1                                         \n",
              "Covariance Type:            nonrobust                                         \n",
              "==============================================================================\n",
              "                 coef    std err          t      P>|t|      [0.025      0.975]\n",
              "------------------------------------------------------------------------------\n",
              "Intercept    349.4458    790.373      0.442      0.668   -1411.614    2110.506\n",
              "Age           48.0932     19.406      2.478      0.033       4.853      91.333\n",
              "==============================================================================\n",
              "Omnibus:                        0.406   Durbin-Watson:                   1.484\n",
              "Prob(Omnibus):                  0.816   Jarque-Bera (JB):                0.479\n",
              "Skew:                           0.321   Prob(JB):                        0.787\n",
              "Kurtosis:                       2.261   Cond. No.                         205.\n",
              "==============================================================================\n",
              "\n",
              "Warnings:\n",
              "[1] Standard Errors assume that the covariance matrix of the errors is correctly specified.\n",
              "\"\"\""
            ]
          },
          "metadata": {},
          "execution_count": 34
        }
      ]
    },
    {
      "cell_type": "code",
      "source": [
        ""
      ],
      "metadata": {
        "id": "AhEVXoV2Q7lg"
      },
      "execution_count": null,
      "outputs": []
    },
    {
      "cell_type": "markdown",
      "source": [
        "Cual seria el salario de alguien de edad 40?\n",
        "\n",
        "salary = 349.44 + 48.09* 40\n"
      ],
      "metadata": {
        "id": "OEdhoBbIS5_1"
      }
    },
    {
      "cell_type": "code",
      "source": [
        "salary = 349.44 + 48.09* 40 #predicted salary \n",
        "\n",
        "salary "
      ],
      "metadata": {
        "colab": {
          "base_uri": "https://localhost:8080/"
        },
        "id": "wTurE7bMTbkk",
        "outputId": "62c469f8-8e69-4eb3-907f-c9dc868ed3a5"
      },
      "execution_count": 21,
      "outputs": [
        {
          "output_type": "execute_result",
          "data": {
            "text/plain": [
              "2273.04"
            ]
          },
          "metadata": {},
          "execution_count": 21
        }
      ]
    },
    {
      "cell_type": "code",
      "source": [
        "res0 = 1500 - 1936 #los residuales es la diferencia entre el datos real - el datos predecido \n",
        "res1 = 1200 - 1936 #datos reales de salarios 33 años vs lo predicto \n",
        "print('residual values of first two datas are : ', res0 , '\\t', res1)"
      ],
      "metadata": {
        "colab": {
          "base_uri": "https://localhost:8080/"
        },
        "id": "C5rLUh75Tfdf",
        "outputId": "43d85692-bee9-4160-8685-d77563de061e"
      },
      "execution_count": 22,
      "outputs": [
        {
          "output_type": "stream",
          "name": "stdout",
          "text": [
            "residual values of first two datas are :  -436 \t -736\n"
          ]
        }
      ]
    },
    {
      "cell_type": "code",
      "source": [
        "RESI_A = resultA.resid #para ver todos los resiudos de volada \n",
        "RESI_A"
      ],
      "metadata": {
        "colab": {
          "base_uri": "https://localhost:8080/"
        },
        "id": "LA3ccccDUcH3",
        "outputId": "e5202399-d263-4510-978f-e48d736f931f"
      },
      "execution_count": 25,
      "outputs": [
        {
          "output_type": "execute_result",
          "data": {
            "text/plain": [
              "0    -436.521924\n",
              "1    -736.521924\n",
              "2     215.384860\n",
              "3    -269.360866\n",
              "4    -244.149060\n",
              "5    -669.360866\n",
              "6     245.893407\n",
              "7       5.427328\n",
              "8     959.664508\n",
              "9     338.266270\n",
              "10    699.198429\n",
              "11   -107.920161\n",
              "dtype: float64"
            ]
          },
          "metadata": {},
          "execution_count": 25
        }
      ]
    },
    {
      "cell_type": "code",
      "source": [
        "plt.figure(figsize= (15,10)) #tamaño de la tabla \n",
        "sns.set(font_scale = 1.50) #tamaño de las letras\n",
        "ax = sns.regplot(x = 'Age',\n",
        "                 y = 'Salary',\n",
        "                 data = df,\n",
        "                 color = 'green', #color de la tabla \n",
        "                 marker = '+', #forma del marcador \n",
        "                 scatter_kws = {'s':200} #tamaño del marcador\n",
        ")\n",
        "ax.set(xlabel = 'Age',\n",
        "       ylabel = 'Salary') #poner marca de que va en cada axia\n",
        "\n",
        "ax.text(45,1450, 'salary = b0 + b1*Age',\n",
        "        horizontalalignment= 'left', size = 'medium', color = 'black',\n",
        "        weight = 'semibold')\n",
        "ax.set_title('Regresion plot of Age vs Salary') #titulo de la grafica \n",
        "plt.show "
      ],
      "metadata": {
        "colab": {
          "base_uri": "https://localhost:8080/",
          "height": 662
        },
        "id": "mFBv_ZsgU2-m",
        "outputId": "b7a51165-2d44-4cf1-db61-fabfe3f03a7e"
      },
      "execution_count": 32,
      "outputs": [
        {
          "output_type": "execute_result",
          "data": {
            "text/plain": [
              "<function matplotlib.pyplot.show>"
            ]
          },
          "metadata": {},
          "execution_count": 32
        },
        {
          "output_type": "display_data",
          "data": {
            "image/png": "[encoded data removed]",
            "text/plain": [
              "<Figure size 1080x720 with 1 Axes>"
            ]
          },
          "metadata": {}
        }
      ]
    },
    {
      "cell_type": "code",
      "source": [
        "RESI_A"
      ],
      "metadata": {
        "colab": {
          "base_uri": "https://localhost:8080/"
        },
        "id": "LSp7EWboX4qQ",
        "outputId": "51977030-36b7-4662-96db-232aa704b8a7"
      },
      "execution_count": 36,
      "outputs": [
        {
          "output_type": "execute_result",
          "data": {
            "text/plain": [
              "0    -436.521924\n",
              "1    -736.521924\n",
              "2     215.384860\n",
              "3    -269.360866\n",
              "4    -244.149060\n",
              "5    -669.360866\n",
              "6     245.893407\n",
              "7       5.427328\n",
              "8     959.664508\n",
              "9     338.266270\n",
              "10    699.198429\n",
              "11   -107.920161\n",
              "dtype: float64"
            ]
          },
          "metadata": {},
          "execution_count": 36
        }
      ]
    },
    {
      "cell_type": "code",
      "source": [
        "predicted_values = resultA.fittedvalues.to_frame()\n",
        "predicted_values"
      ],
      "metadata": {
        "colab": {
          "base_uri": "https://localhost:8080/",
          "height": 426
        },
        "id": "gSKTkmxzWAs6",
        "outputId": "d208df86-225d-4e4f-b42a-73cbc4cf1581"
      },
      "execution_count": 35,
      "outputs": [
        {
          "output_type": "execute_result",
          "data": {
            "text/html": [
              "\n",
              "  <div id=\"df-8e835a9a-2f98-4814-9d56-3996974f542a\">\n",
              "    <div class=\"colab-df-container\">\n",
              "      <div>\n",
              "<style scoped>\n",
              "    .dataframe tbody tr th:only-of-type {\n",
              "        vertical-align: middle;\n",
              "    }\n",
              "\n",
              "    .dataframe tbody tr th {\n",
              "        vertical-align: top;\n",
              "    }\n",
              "\n",
              "    .dataframe thead th {\n",
              "        text-align: right;\n",
              "    }\n",
              "</style>\n",
              "<table border=\"1\" class=\"dataframe\">\n",
              "  <thead>\n",
              "    <tr style=\"text-align: right;\">\n",
              "      <th></th>\n",
              "      <th>0</th>\n",
              "    </tr>\n",
              "  </thead>\n",
              "  <tbody>\n",
              "    <tr>\n",
              "      <th>0</th>\n",
              "      <td>1936.521924</td>\n",
              "    </tr>\n",
              "    <tr>\n",
              "      <th>1</th>\n",
              "      <td>1936.521924</td>\n",
              "    </tr>\n",
              "    <tr>\n",
              "      <th>2</th>\n",
              "      <td>1984.615140</td>\n",
              "    </tr>\n",
              "    <tr>\n",
              "      <th>3</th>\n",
              "      <td>2369.360866</td>\n",
              "    </tr>\n",
              "    <tr>\n",
              "      <th>4</th>\n",
              "      <td>1744.149060</td>\n",
              "    </tr>\n",
              "    <tr>\n",
              "      <th>5</th>\n",
              "      <td>2369.360866</td>\n",
              "    </tr>\n",
              "    <tr>\n",
              "      <th>6</th>\n",
              "      <td>2754.106593</td>\n",
              "    </tr>\n",
              "    <tr>\n",
              "      <th>7</th>\n",
              "      <td>2994.572672</td>\n",
              "    </tr>\n",
              "    <tr>\n",
              "      <th>8</th>\n",
              "      <td>1840.335492</td>\n",
              "    </tr>\n",
              "    <tr>\n",
              "      <th>9</th>\n",
              "      <td>2561.733730</td>\n",
              "    </tr>\n",
              "    <tr>\n",
              "      <th>10</th>\n",
              "      <td>2080.801571</td>\n",
              "    </tr>\n",
              "    <tr>\n",
              "      <th>11</th>\n",
              "      <td>2657.920161</td>\n",
              "    </tr>\n",
              "  </tbody>\n",
              "</table>\n",
              "</div>\n",
              "      <button class=\"colab-df-convert\" onclick=\"convertToInteractive('df-8e835a9a-2f98-4814-9d56-3996974f542a')\"\n",
              "              title=\"Convert this dataframe to an interactive table.\"\n",
              "              style=\"display:none;\">\n",
              "        \n",
              "  <svg xmlns=\"http://www.w3.org/2000/svg\" height=\"24px\"viewBox=\"0 0 24 24\"\n",
              "       width=\"24px\">\n",
              "    <path d=\"M0 0h24v24H0V0z\" fill=\"none\"/>\n",
              "    <path d=\"M18.56 5.44l.94 2.06.94-2.06 2.06-.94-2.06-.94-.94-2.06-.94 2.06-2.06.94zm-11 1L8.5 8.5l.94-2.06 2.06-.94-2.06-.94L8.5 2.5l-.94 2.06-2.06.94zm10 10l.94 2.06.94-2.06 2.06-.94-2.06-.94-.94-2.06-.94 2.06-2.06.94z\"/><path d=\"M17.41 7.96l-1.37-1.37c-.4-.4-.92-.59-1.43-.59-.52 0-1.04.2-1.43.59L10.3 9.45l-7.72 7.72c-.78.78-.78 2.05 0 2.83L4 21.41c.39.39.9.59 1.41.59.51 0 1.02-.2 1.41-.59l7.78-7.78 2.81-2.81c.8-.78.8-2.07 0-2.86zM5.41 20L4 18.59l7.72-7.72 1.47 1.35L5.41 20z\"/>\n",
              "  </svg>\n",
              "      </button>\n",
              "      \n",
              "  <style>\n",
              "    .colab-df-container {\n",
              "      display:flex;\n",
              "      flex-wrap:wrap;\n",
              "      gap: 12px;\n",
              "    }\n",
              "\n",
              "    .colab-df-convert {\n",
              "      background-color: #E8F0FE;\n",
              "      border: none;\n",
              "      border-radius: 50%;\n",
              "      cursor: pointer;\n",
              "      display: none;\n",
              "      fill: #1967D2;\n",
              "      height: 32px;\n",
              "      padding: 0 0 0 0;\n",
              "      width: 32px;\n",
              "    }\n",
              "\n",
              "    .colab-df-convert:hover {\n",
              "      background-color: #E2EBFA;\n",
              "      box-shadow: 0px 1px 2px rgba(60, 64, 67, 0.3), 0px 1px 3px 1px rgba(60, 64, 67, 0.15);\n",
              "      fill: #174EA6;\n",
              "    }\n",
              "\n",
              "    [theme=dark] .colab-df-convert {\n",
              "      background-color: #3B4455;\n",
              "      fill: #D2E3FC;\n",
              "    }\n",
              "\n",
              "    [theme=dark] .colab-df-convert:hover {\n",
              "      background-color: #434B5C;\n",
              "      box-shadow: 0px 1px 3px 1px rgba(0, 0, 0, 0.15);\n",
              "      filter: drop-shadow(0px 1px 2px rgba(0, 0, 0, 0.3));\n",
              "      fill: #FFFFFF;\n",
              "    }\n",
              "  </style>\n",
              "\n",
              "      <script>\n",
              "        const buttonEl =\n",
              "          document.querySelector('#df-8e835a9a-2f98-4814-9d56-3996974f542a button.colab-df-convert');\n",
              "        buttonEl.style.display =\n",
              "          google.colab.kernel.accessAllowed ? 'block' : 'none';\n",
              "\n",
              "        async function convertToInteractive(key) {\n",
              "          const element = document.querySelector('#df-8e835a9a-2f98-4814-9d56-3996974f542a');\n",
              "          const dataTable =\n",
              "            await google.colab.kernel.invokeFunction('convertToInteractive',\n",
              "                                                     [key], {});\n",
              "          if (!dataTable) return;\n",
              "\n",
              "          const docLinkHtml = 'Like what you see? Visit the ' +\n",
              "            '<a target=\"_blank\" href=https://colab.research.google.com/notebooks/data_table.ipynb>data table notebook</a>'\n",
              "            + ' to learn more about interactive tables.';\n",
              "          element.innerHTML = '';\n",
              "          dataTable['output_type'] = 'display_data';\n",
              "          await google.colab.output.renderOutput(dataTable, element);\n",
              "          const docLink = document.createElement('div');\n",
              "          docLink.innerHTML = docLinkHtml;\n",
              "          element.appendChild(docLink);\n",
              "        }\n",
              "      </script>\n",
              "    </div>\n",
              "  </div>\n",
              "  "
            ],
            "text/plain": [
              "              0\n",
              "0   1936.521924\n",
              "1   1936.521924\n",
              "2   1984.615140\n",
              "3   2369.360866\n",
              "4   1744.149060\n",
              "5   2369.360866\n",
              "6   2754.106593\n",
              "7   2994.572672\n",
              "8   1840.335492\n",
              "9   2561.733730\n",
              "10  2080.801571\n",
              "11  2657.920161"
            ]
          },
          "metadata": {},
          "execution_count": 35
        }
      ]
    },
    {
      "cell_type": "code",
      "source": [
        "plt.figure(figsize= (10,8)) #tamaño de la tabla \n",
        "sns.set(font_scale = 1.50) #tamaño de las letras\n",
        "ax = sns.regplot(x = predicted_values,\n",
        "                 y = RESI_A,\n",
        "                 data = df,\n",
        "                 color = 'green', #color de la tabla \n",
        "                 marker = '+', #forma del marcador \n",
        "                 scatter_kws = {'s':200} #tamaño del marcador\n",
        ")\n",
        "ax.set(xlabel = 'Predicted Values',\n",
        "       ylabel = 'Residuals')\n",
        "ax.set_title('Predicted values vs Residuals')\n",
        "plt.show "
      ],
      "metadata": {
        "colab": {
          "base_uri": "https://localhost:8080/",
          "height": 552
        },
        "id": "BODSrnsUYMXp",
        "outputId": "0b0cfc90-92af-4a56-e143-d74c4df39da7"
      },
      "execution_count": 41,
      "outputs": [
        {
          "output_type": "execute_result",
          "data": {
            "text/plain": [
              "<function matplotlib.pyplot.show>"
            ]
          },
          "metadata": {},
          "execution_count": 41
        },
        {
          "output_type": "display_data",
          "data": {
            "image/png": "[encoded data removed]",
            "text/plain": [
              "<Figure size 720x576 with 1 Axes>"
            ]
          },
          "metadata": {}
        }
      ]
    },
    {
      "cell_type": "code",
      "source": [
        "df.columns"
      ],
      "metadata": {
        "colab": {
          "base_uri": "https://localhost:8080/"
        },
        "id": "2r5YFT7gYmDS",
        "outputId": "59b37b6f-1574-4177-c0c2-4ad0e1164683"
      },
      "execution_count": 42,
      "outputs": [
        {
          "output_type": "execute_result",
          "data": {
            "text/plain": [
              "Index(['Gender', 'Salary', 'Age', 'Place', 'Weight', 'Company',\n",
              "       'Academic_degree'],\n",
              "      dtype='object')"
            ]
          },
          "metadata": {},
          "execution_count": 42
        }
      ]
    },
    {
      "cell_type": "code",
      "source": [
        "modelA =sm.OLS.from_formula('Salary~Age+Gender', data = df)\n",
        "resultA = modelA.fit()\n",
        "resultA.summary()"
      ],
      "metadata": {
        "colab": {
          "base_uri": "https://localhost:8080/",
          "height": 499
        },
        "id": "HgXtAx4zZ9qz",
        "outputId": "be7613bc-fcd9-4939-ecf9-db91c24e3a62"
      },
      "execution_count": 44,
      "outputs": [
        {
          "output_type": "stream",
          "name": "stderr",
          "text": [
            "/usr/local/lib/python3.7/dist-packages/scipy/stats/stats.py:1535: UserWarning: kurtosistest only valid for n>=20 ... continuing anyway, n=12\n",
            "  \"anyway, n=%i\" % int(n))\n"
          ]
        },
        {
          "output_type": "execute_result",
          "data": {
            "text/html": [
              "<table class=\"simpletable\">\n",
              "<caption>OLS Regression Results</caption>\n",
              "<tr>\n",
              "  <th>Dep. Variable:</th>         <td>Salary</td>      <th>  R-squared:         </th> <td>   0.408</td>\n",
              "</tr>\n",
              "<tr>\n",
              "  <th>Model:</th>                   <td>OLS</td>       <th>  Adj. R-squared:    </th> <td>   0.276</td>\n",
              "</tr>\n",
              "<tr>\n",
              "  <th>Method:</th>             <td>Least Squares</td>  <th>  F-statistic:       </th> <td>   3.101</td>\n",
              "</tr>\n",
              "<tr>\n",
              "  <th>Date:</th>             <td>Fri, 11 Mar 2022</td> <th>  Prob (F-statistic):</th>  <td>0.0945</td> \n",
              "</tr>\n",
              "<tr>\n",
              "  <th>Time:</th>                 <td>14:37:51</td>     <th>  Log-Likelihood:    </th> <td> -91.242</td>\n",
              "</tr>\n",
              "<tr>\n",
              "  <th>No. Observations:</th>      <td>    12</td>      <th>  AIC:               </th> <td>   188.5</td>\n",
              "</tr>\n",
              "<tr>\n",
              "  <th>Df Residuals:</th>          <td>     9</td>      <th>  BIC:               </th> <td>   189.9</td>\n",
              "</tr>\n",
              "<tr>\n",
              "  <th>Df Model:</th>              <td>     2</td>      <th>                     </th>     <td> </td>   \n",
              "</tr>\n",
              "<tr>\n",
              "  <th>Covariance Type:</th>      <td>nonrobust</td>    <th>                     </th>     <td> </td>   \n",
              "</tr>\n",
              "</table>\n",
              "<table class=\"simpletable\">\n",
              "<tr>\n",
              "         <td></td>           <th>coef</th>     <th>std err</th>      <th>t</th>      <th>P>|t|</th>  <th>[0.025</th>    <th>0.975]</th>  \n",
              "</tr>\n",
              "<tr>\n",
              "  <th>Intercept</th>      <td>  749.8157</td> <td> 1023.148</td> <td>    0.733</td> <td> 0.482</td> <td>-1564.706</td> <td> 3064.337</td>\n",
              "</tr>\n",
              "<tr>\n",
              "  <th>Gender[T.Male]</th> <td>  306.7169</td> <td>  474.438</td> <td>    0.646</td> <td> 0.534</td> <td> -766.535</td> <td> 1379.969</td>\n",
              "</tr>\n",
              "<tr>\n",
              "  <th>Age</th>            <td>   34.2211</td> <td>   29.331</td> <td>    1.167</td> <td> 0.273</td> <td>  -32.130</td> <td>  100.573</td>\n",
              "</tr>\n",
              "</table>\n",
              "<table class=\"simpletable\">\n",
              "<tr>\n",
              "  <th>Omnibus:</th>       <td> 1.671</td> <th>  Durbin-Watson:     </th> <td>   1.363</td>\n",
              "</tr>\n",
              "<tr>\n",
              "  <th>Prob(Omnibus):</th> <td> 0.434</td> <th>  Jarque-Bera (JB):  </th> <td>   1.061</td>\n",
              "</tr>\n",
              "<tr>\n",
              "  <th>Skew:</th>          <td> 0.691</td> <th>  Prob(JB):          </th> <td>   0.588</td>\n",
              "</tr>\n",
              "<tr>\n",
              "  <th>Kurtosis:</th>      <td> 2.541</td> <th>  Cond. No.          </th> <td>    269.</td>\n",
              "</tr>\n",
              "</table><br/><br/>Warnings:<br/>[1] Standard Errors assume that the covariance matrix of the errors is correctly specified."
            ],
            "text/plain": [
              "<class 'statsmodels.iolib.summary.Summary'>\n",
              "\"\"\"\n",
              "                            OLS Regression Results                            \n",
              "==============================================================================\n",
              "Dep. Variable:                 Salary   R-squared:                       0.408\n",
              "Model:                            OLS   Adj. R-squared:                  0.276\n",
              "Method:                 Least Squares   F-statistic:                     3.101\n",
              "Date:                Fri, 11 Mar 2022   Prob (F-statistic):             0.0945\n",
              "Time:                        14:37:51   Log-Likelihood:                -91.242\n",
              "No. Observations:                  12   AIC:                             188.5\n",
              "Df Residuals:                       9   BIC:                             189.9\n",
              "Df Model:                           2                                         \n",
              "Covariance Type:            nonrobust                                         \n",
              "==================================================================================\n",
              "                     coef    std err          t      P>|t|      [0.025      0.975]\n",
              "----------------------------------------------------------------------------------\n",
              "Intercept        749.8157   1023.148      0.733      0.482   -1564.706    3064.337\n",
              "Gender[T.Male]   306.7169    474.438      0.646      0.534    -766.535    1379.969\n",
              "Age               34.2211     29.331      1.167      0.273     -32.130     100.573\n",
              "==============================================================================\n",
              "Omnibus:                        1.671   Durbin-Watson:                   1.363\n",
              "Prob(Omnibus):                  0.434   Jarque-Bera (JB):                1.061\n",
              "Skew:                           0.691   Prob(JB):                        0.588\n",
              "Kurtosis:                       2.541   Cond. No.                         269.\n",
              "==============================================================================\n",
              "\n",
              "Warnings:\n",
              "[1] Standard Errors assume that the covariance matrix of the errors is correctly specified.\n",
              "\"\"\""
            ]
          },
          "metadata": {},
          "execution_count": 44
        }
      ]
    },
    {
      "cell_type": "markdown",
      "source": [
        "Salary = b0 + b1*age + b2*(Gender_ male + Gender_female)\n",
        "\n",
        "Salary = 749 + 34 * Age + 306 * Gender[T.Male]\n",
        "\n",
        "What is the salary of a male with age 42?\n",
        "\n",
        "\n"
      ],
      "metadata": {
        "id": "DUH29UBNalm5"
      }
    },
    {
      "cell_type": "markdown",
      "source": [
        ""
      ],
      "metadata": {
        "id": "dZMKSJ1iajEU"
      }
    },
    {
      "cell_type": "code",
      "source": [
        "print('The salary of a male with age 42 =', 749 + 34*42 + 306*1)\n",
        "print('The salary of a female with age 42 = ',749 + 34*42 + 306*0)"
      ],
      "metadata": {
        "colab": {
          "base_uri": "https://localhost:8080/"
        },
        "id": "KCutbeC3ceF1",
        "outputId": "11f15405-c9cf-4e52-fdc4-7553b462930b"
      },
      "execution_count": 45,
      "outputs": [
        {
          "output_type": "stream",
          "name": "stdout",
          "text": [
            "The salary of a male with age 42 = 2483\n",
            "The salary of a female with age 42 =  2177\n"
          ]
        }
      ]
    },
    {
      "cell_type": "markdown",
      "source": [
        ""
      ],
      "metadata": {
        "id": "zv_qAnldaWbb"
      }
    }
  ]
}